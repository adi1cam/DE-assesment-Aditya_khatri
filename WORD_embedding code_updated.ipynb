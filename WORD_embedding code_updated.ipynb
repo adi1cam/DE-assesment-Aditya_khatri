{
 "cells": [
  {
   "cell_type": "code",
   "execution_count": 39,
   "outputs": [],
   "source": [
    "import csv\n",
    "import gensim\n",
    "import numpy as np\n",
    "from gensim.models import KeyedVectors\n",
    "import os\n",
    "from scipy.spatial.distance import cdist"
   ],
   "metadata": {
    "collapsed": false,
    "ExecuteTime": {
     "start_time": "2023-11-11T22:26:36.971901Z",
     "end_time": "2023-11-11T22:26:36.994852Z"
    }
   }
  },
  {
   "cell_type": "code",
   "execution_count": 2,
   "id": "54d48bb2",
   "metadata": {
    "ExecuteTime": {
     "start_time": "2023-11-11T22:14:41.401800Z",
     "end_time": "2023-11-11T22:14:41.405883Z"
    }
   },
   "outputs": [],
   "source": [
    "def extract_w2v():\n",
    "    if not os.path.exists('vectors.csv'):\n",
    "        if not os.path.exists('GoogleNews-vectors-negative300.bin.gz'):\n",
    "            print(\"Download and place the model in the folder.\")\n",
    "            exit(0)\n",
    "        wv = KeyedVectors.load_word2vec_format('GoogleNews-vectors-negative300.bin.gz', binary=True, limit=1000000)\n",
    "        print(\"Extracting embeddings of top 1000000 words.\")\n",
    "        wv.save_word2vec_format('vectors.csv')\n",
    "    else:\n",
    "        print(\"using existing vector.csv\")"
   ]
  },
  {
   "cell_type": "code",
   "execution_count": 3,
   "outputs": [],
   "source": [
    "def build_w2v_mapping():\n",
    "    embeddings = {}\n",
    "    with open('vectors.csv', encoding=\"utf8\") as f:\n",
    "        wv_file = f.readlines()\n",
    "        for embed in wv_file[1:]:\n",
    "            embed_split = embed.split(\" \")\n",
    "            embeddings[embed_split[0]] = np.array([float(x) for x in embed_split[1:]])\n",
    "    return embeddings"
   ],
   "metadata": {
    "collapsed": false,
    "ExecuteTime": {
     "start_time": "2023-11-11T22:14:41.412421Z",
     "end_time": "2023-11-11T22:14:41.448832Z"
    }
   }
  },
  {
   "cell_type": "code",
   "execution_count": 20,
   "outputs": [],
   "source": [
    "def phrase_vector(embeddings, phrase):\n",
    "    phrase_vector = np.array([0.0] * 300)\n",
    "    words = phrase.split()\n",
    "    words_found = 0\n",
    "    for word in words:\n",
    "        if word in embeddings:\n",
    "            phrase_vector += embeddings[word]\n",
    "            words_found += 1\n",
    "    print(f\"{words_found} words found in '{phrase}'\")\n",
    "    if words_found > 0:\n",
    "        phrase_vector /= words_found\n",
    "    return phrase_vector"
   ],
   "metadata": {
    "collapsed": false,
    "ExecuteTime": {
     "start_time": "2023-11-11T22:24:05.580851Z",
     "end_time": "2023-11-11T22:24:05.599593Z"
    }
   }
  },
  {
   "cell_type": "code",
   "execution_count": 15,
   "outputs": [],
   "source": [
    "# extract_w2v()\n",
    "# embeddings = build_w2v_mapping()"
   ],
   "metadata": {
    "collapsed": false,
    "ExecuteTime": {
     "start_time": "2023-11-11T22:23:23.865584Z",
     "end_time": "2023-11-11T22:23:23.871098Z"
    }
   }
  },
  {
   "cell_type": "code",
   "execution_count": 68,
   "outputs": [
    {
     "name": "stdout",
     "output_type": "stream",
     "text": [
      "1 words found in 'Phrases'\n",
      "4 words found in 'how company compares to its peers?'\n",
      "7 words found in 'what is the detailed income statement breakdown of Axa?'\n",
      "4 words found in 'world premium penetration in 2020'\n",
      "12 words found in 'How does the forecasted insurance premium penetration in country trend compare to its peers?'\n",
      "11 words found in 'what are the total losses for companies in country  non life market?'\n",
      "5 words found in 'Insurance premiums market in Country'\n",
      "13 words found in 'How have the profit margins been for the airlines industry through the years, by regions?'\n",
      "8 words found in 'What is the complete profile of the top oil rigs?'\n",
      "4 words found in 'what is company general information?'\n",
      "6 words found in 'How is the airline industry performing globally?'\n",
      "8 words found in 'how does economic profit for in country compare to others?'\n",
      "5 words found in 'most profitable insurance company India'\n",
      "9 words found in 'Give me a detailed breakup of the income and expenses in South-East Asia'\n",
      "9 words found in 'Show me all the oil rigs in the world'\n",
      "11 words found in 'What were the premiums earned by the Indian insurance industry in 2020?'\n",
      "9 words found in 'How much have premiums grown as compared to claims for India?'\n",
      "8 words found in 'Which are the best performing insurance firms in India?'\n",
      "6 words found in 'What is the ROE of the Indian market?'\n",
      "7 words found in 'What profits were clocked by Cholamandalam in 2020?'\n",
      "11 words found in 'What is the premiums market share of the top 5 companies in India?'\n",
      "11 words found in 'How will the Brazilian insurance market perform in case of a sluggish economic scenario?'\n",
      "7 words found in 'Which are the main distribution channels in India?'\n",
      "10 words found in 'What are the risks in the motor insurance segment in India?'\n",
      "7 words found in 'What is the demand potential of India for insurance?'\n",
      "9 words found in 'How do premiums break down by lines of business in India?'\n",
      "5 words found in 'What is the share price of Qantas?'\n",
      "6 words found in 'How many passengers are carried in ?'\n",
      "6 words found in 'Which are the aircrafts manufactured by Boeing?'\n",
      "1 words found in 'Kdo je nejv?tší konkurent ?eské Pojiš?ovny?'\n",
      "4 words found in 'Which are the top airports?'\n",
      "6 words found in 'How many fatal air accidents till date?'\n",
      "8 words found in 'What is the flow of air traffic in North America?'\n",
      "4 words found in 'What is the fleet of Airbus?'\n",
      "2 words found in 'Airlines profitability Brazil?'\n",
      "3 words found in 'Mergers among airline companies?'\n",
      "5 words found in 'Which are the most profitable airports?'\n",
      "10 words found in 'What has the capacity movement of airline companies been over the years?'\n",
      "5 words found in 'Details of the Aban Abraham oil rig?'\n",
      "7 words found in 'How big is the airlines industry in China?'\n",
      "7 words found in 'How much money did Lloyd's of London make last year?'\n",
      "12 words found in 'What was the Calendar year COR versus the Accident year COR for Lloyd's?'\n",
      "6 words found in 'Which Lloyd's syndicates owns the maximum number of assets?'\n",
      "5 words found in 'List key performance indicators for AXA?'\n",
      "6 words found in 'What are the most prominent legal cases?'\n",
      "6 words found in 'How does oil industry perform in Brazil?'\n",
      "10 words found in 'What is the main driver of growth in automobile industry in Europe?'\n",
      "10 words found in 'Which country in Europe is going to grow the most in 2020?'\n",
      "6 words found in 'What are the biggest acquisitions in 2020?'\n",
      "7 words found in 'How impacted is the airline industry in 2020?'\n",
      "7 words found in 'What are the most prominent bankruptcies in 2020?'\n"
     ]
    }
   ],
   "source": [
    "phrase_embeddings = []\n",
    "phrases = []\n",
    "with open('phrases (1).csv', 'r') as csv_file:\n",
    "    reader = csv.reader(csv_file)\n",
    "    for phrase in reader:\n",
    "        phrases.append(phrase[0])\n",
    "        p_vector = phrase_vector(embeddings, phrase[0])\n",
    "        phrase_embeddings.append(p_vector)"
   ],
   "metadata": {
    "collapsed": false,
    "ExecuteTime": {
     "start_time": "2023-11-11T22:31:42.306511Z",
     "end_time": "2023-11-11T22:31:42.383611Z"
    }
   }
  },
  {
   "cell_type": "code",
   "execution_count": 69,
   "outputs": [],
   "source": [
    "phrases = phrases[1:]\n",
    "phrase_embeddings = np.stack(phrase_embeddings[1:])"
   ],
   "metadata": {
    "collapsed": false,
    "ExecuteTime": {
     "start_time": "2023-11-11T22:31:43.615640Z",
     "end_time": "2023-11-11T22:31:43.625557Z"
    }
   }
  },
  {
   "cell_type": "code",
   "execution_count": 70,
   "outputs": [],
   "source": [
    "phrase_distance = cdist(phrase_embeddings, phrase_embeddings,metric='cosine')"
   ],
   "metadata": {
    "collapsed": false,
    "ExecuteTime": {
     "start_time": "2023-11-11T22:31:44.874796Z",
     "end_time": "2023-11-11T22:31:44.937080Z"
    }
   }
  },
  {
   "cell_type": "code",
   "execution_count": 71,
   "outputs": [
    {
     "data": {
      "text/plain": "array([[0.  , 0.49, 0.63, ..., 0.58, 0.43, 0.65],\n       [0.49, 0.  , 0.69, ..., 0.54, 0.53, 0.52],\n       [0.63, 0.69, 0.  , ..., 0.58, 0.61, 0.63],\n       ...,\n       [0.58, 0.54, 0.58, ..., 0.  , 0.45, 0.27],\n       [0.43, 0.53, 0.61, ..., 0.45, 0.  , 0.41],\n       [0.65, 0.52, 0.63, ..., 0.27, 0.41, 0.  ]])"
     },
     "execution_count": 71,
     "metadata": {},
     "output_type": "execute_result"
    }
   ],
   "source": [
    "phrase_distance.round(2)"
   ],
   "metadata": {
    "collapsed": false,
    "ExecuteTime": {
     "start_time": "2023-11-11T22:31:44.886281Z",
     "end_time": "2023-11-11T22:31:44.937080Z"
    }
   }
  },
  {
   "cell_type": "code",
   "execution_count": 71,
   "outputs": [],
   "source": [],
   "metadata": {
    "collapsed": false,
    "ExecuteTime": {
     "start_time": "2023-11-11T22:31:46.456740Z",
     "end_time": "2023-11-11T22:31:46.468236Z"
    }
   }
  },
  {
   "cell_type": "code",
   "execution_count": 72,
   "outputs": [],
   "source": [
    "def closest_phrase(new_phrase, phrase_embeddings):\n",
    "    new_phrase_embed = phrase_vector(embeddings, new_phrase).reshape(1, -1)\n",
    "    phrase_distance = cdist(phrase_embeddings, new_phrase_embed, metric='cosine').reshape(-1)\n",
    "    closest_phrase_idx = phrase_distance.argmin()\n",
    "    print(f\"Closest phrase is {phrases[closest_phrase_idx]}\")"
   ],
   "metadata": {
    "collapsed": false,
    "ExecuteTime": {
     "start_time": "2023-11-11T22:31:46.473326Z",
     "end_time": "2023-11-11T22:31:46.485390Z"
    }
   }
  },
  {
   "cell_type": "code",
   "execution_count": 73,
   "outputs": [
    {
     "name": "stdout",
     "output_type": "stream",
     "text": [
      "4 words found in 'Which are the best airports?'\n",
      "Closest phrase is Which are the top airports?\n"
     ]
    }
   ],
   "source": [
    "closest_phrase(\"Which are the best airports?\", phrase_embeddings)"
   ],
   "metadata": {
    "collapsed": false,
    "ExecuteTime": {
     "start_time": "2023-11-11T22:31:46.491761Z",
     "end_time": "2023-11-11T22:31:46.531916Z"
    }
   }
  },
  {
   "cell_type": "code",
   "execution_count": null,
   "outputs": [],
   "source": [],
   "metadata": {
    "collapsed": false
   }
  }
 ],
 "metadata": {
  "kernelspec": {
   "display_name": "Python 3 (ipykernel)",
   "language": "python",
   "name": "python3"
  },
  "language_info": {
   "codemirror_mode": {
    "name": "ipython",
    "version": 3
   },
   "file_extension": ".py",
   "mimetype": "text/x-python",
   "name": "python",
   "nbconvert_exporter": "python",
   "pygments_lexer": "ipython3",
   "version": "3.10.9"
  }
 },
 "nbformat": 4,
 "nbformat_minor": 5
}
